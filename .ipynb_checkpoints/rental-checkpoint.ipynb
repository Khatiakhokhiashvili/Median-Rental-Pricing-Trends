{
 "cells": [
  {
   "cell_type": "code",
   "execution_count": null,
   "metadata": {},
   "outputs": [],
   "source": [
    "matplotlib inline \n",
    "\n",
    "import pandas as pd\n",
    "import numpy as np\n",
    "import matplotlib.pyplot as plt\n",
    "\n",
    "import seaborn as sns\n",
    "import plotly.express as px    \n",
    "import seaborn as sns"
   ]
  },
  {
   "cell_type": "code",
   "execution_count": null,
   "metadata": {},
   "outputs": [],
   "source": [
    "Rent= pd.read_csv(\"../Data/medianAskingRent_All.csv\")\n",
    "\n",
    "\n",
    "## Filter for Neighborhoods data only \n",
    "Rent=Rent[(Rent.areaType == 'neighborhood')] \n",
    "\n",
    "## Rearrange Dates as single column \n",
    "Rent = Rent.melt(id_vars=[\"areaName\", \"Borough\",\"areaType\"], \n",
    "        var_name=\"Date\", \n",
    "        value_name=\"Price\")\n",
    "\n",
    "Rent = Rent[(Rent.Date >= '2018-01')]\n",
    "\n",
    "Rent['Date'] = pd.to_datetime(Rent.Date) \n",
    "Rent.head()"
   ]
  }
 ],
 "metadata": {
  "language_info": {
   "name": "python"
  }
 },
 "nbformat": 4,
 "nbformat_minor": 2
}
